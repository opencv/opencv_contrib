{
 "cells": [
  {
   "cell_type": "code",
   "execution_count": 15,
   "id": "67337d44",
   "metadata": {},
   "outputs": [],
   "source": [
    "import pyceres\n",
    "import pycolmap\n",
    "import numpy as np\n",
    "from hloc.utils import viz_3d\n",
    "\n",
    "from pycolmap import cost_functions"
   ]
  },
  {
   "cell_type": "markdown",
   "id": "cc59c6d8",
   "metadata": {},
   "source": [
    "## Synthetic reconstruction"
   ]
  },
  {
   "cell_type": "code",
   "execution_count": 16,
   "id": "a155e6d8",
   "metadata": {},
   "outputs": [],
   "source": [
    "def create_reconstruction(num_points=50, num_images=2, seed=3, noise=0):\n",
    "    state = np.random.RandomState(seed)\n",
    "    rec = pycolmap.Reconstruction()\n",
    "    p3d = state.uniform(-1, 1, (num_points, 3)) + np.array([0, 0, 3])\n",
    "    for p in p3d:\n",
    "        rec.add_point3D(p, pycolmap.Track(), np.zeros(3))\n",
    "    w, h = 640, 480\n",
    "    cam = pycolmap.Camera(\n",
    "        model=\"SIMPLE_PINHOLE\",\n",
    "        width=w,\n",
    "        height=h,\n",
    "        params=np.array([max(w, h) * 1.2, w / 2, h / 2]),\n",
    "        camera_id=0,\n",
    "    )\n",
    "    rec.add_camera(cam)\n",
    "    for i in range(num_images):\n",
    "        im = pycolmap.Image(\n",
    "            id=i,\n",
    "            name=str(i),\n",
    "            camera_id=cam.camera_id,\n",
    "            cam_from_world=pycolmap.Rigid3d(\n",
    "                pycolmap.Rotation3d(), state.uniform(-1, 1, 3)\n",
    "            ),\n",
    "        )\n",
    "        im.registered = True\n",
    "        p2d = cam.img_from_cam(\n",
    "            im.cam_from_world * [p.xyz for p in rec.points3D.values()]\n",
    "        )\n",
    "        p2d_obs = np.array(p2d) + state.randn(len(p2d), 2) * noise\n",
    "        im.points2D = pycolmap.ListPoint2D(\n",
    "            [pycolmap.Point2D(p, id_) for p, id_ in zip(p2d_obs, rec.points3D)]\n",
    "        )\n",
    "        rec.add_image(im)\n",
    "    return rec\n",
    "\n",
    "\n",
    "rec_gt = create_reconstruction()"
   ]
  },
  {
   "cell_type": "code",
   "execution_count": 17,
   "id": "0e69461f-3619-41a5-b202-c6dc8e2fc778",
   "metadata": {},
   "outputs": [
    {
     "data": {
      "application/vnd.plotly.v1+json": {
       "config": {
        "plotlyServerURL": "https://plot.ly"
       },
       "data": [
        {
         "marker": {
          "color": "rgb(255,0,0)",
          "line": {
           "width": 0
          },
          "size": 1
         },
         "mode": "markers",
         "type": "scatter3d",
         "x": {
          "bdata": "uF17vsMI0r/ERezUj/TYP1hs7RKxxNq/9FWP2lFk1L9IL3o9A63ev3DYwbSa3rQ/IKYWlbaGpb8qcMmFoJnivxJyH/O/Seu/YKrKn5/ltr8gI2MiT2PrP+BXCt7+UbY/8jVgKYBu478o1ogE9BvRPzwjXUwLVN8/kAcZjgn43D9gTjQp9jjev4gemOz3otM/KiIxQ8gg5j+wANsoccvhv1CWfXA83LY/nMtiSb642D9M7o/Z0NDev/DDOR3JQsc/4ABz8yYX0z9gAogTLE6+v8zJrAdp9ue/AGO+kcgslj+gwYbELgK6PwZPef20mOG/RPs+RrCJ3b90Lk3V/BLnP8yVA6o7a9y/RGZ9d5wc478AvOxG9M6gv4g7UVdhld8/HNl/At8t0L8gpG96nqLCP5qH1L8bPuG/0NQWqAmq3D9qGZjgxbbrv/rcE9DoR+a/sBdwBzhHuz+c7EUFDj/XPw==",
          "dtype": "f8"
         },
         "y": {
          "bdata": "7I9+disE3T9e5nys0dnlP+REkM3J294/WA5t8mTc678M2YcXuJLYP9x7/Af8mOU/VLCoDf7T3L8YIgcE2IfdPzwG91D4HOk/sA5sa4UM4r90hCYqVmjiP3LR+svdQOq/FmYhZha147/4s+Ph2yjRv+AMWC6PhdQ/ANOFGfo7pL8y6Y4+eU/rP6APq+1Nnb0/MNhoUsg7z7/YrwJp6q3Mv4Riilat8OE/gLVnrtl8vr84sU+O7bvFv2yW37EUd+6/pGdWWoda3L8uSNYWghbuvyRTBF6IvOK/VBp/+wom6T9obnB9lqTaP5jJ/Y1P7se/VA+/zIim2r940t+bqxTGP+DrL3vGO7e/AHlO12m+nD+A2jO6NaTRvzwN75y7ddg/ECPU93CF1T84gqd380vWvxQZuMdVgtg/IP59Cl+Cqb/cCshVJFvrv5hzdfLjl+m/3N5Ph9f647+gSCXXhwC1Pw==",
          "dtype": "f8"
         },
         "z": {
          "bdata": "g7ET4UE7AkDy99Y3aqILQK7DKUxOhwJATC9/JW/TDUB2NGqNQVQOQByL+xd1uAJAuqr9g4FvCkAwpMu1/2oKQBLtE9YpPgpAnlGvst3VAkCCF8Yp8sIHQPM/WMBs0gdAlN9nwFecC0BkPBeNc9gIQD9Lkoeknw5AZimzMEF5DUBvfySzVW0NQBDWCyL4yAVA79LTirh5AUD8jQpsbfsOQDjig3Ld5gRAWcLovoeCAkBM25yYUYkEQAaC8vsQ8QhAxjr8qPDRCkAzBuhaME8HQPvlL0bP0gBAVpkJbDdXDkDIHj66i6cEQH4Of33HgAdAtKhO+a5SB0A+WZ+RKokEQItqhVtcSQNA5KBin0plAUCOPQg1r1ILQAzwoQriBgtAjooUJwVwBUDIAklqUB8HQFBTDWxaaApAd/dpUO+LCUDQJFp8AS8DQH8YgXGWEQJAwMxUg847D0BsXg2bnFALQA==",
          "dtype": "f8"
         }
        },
        {
         "hovertemplate": "Image(image_id=1, camera_id=0, name=\"1\", triangulated=50/50)",
         "legendgroup": "1",
         "line": {
          "color": "rgb(255,0,0)",
          "width": 1
         },
         "mode": "lines",
         "name": "1",
         "showlegend": false,
         "type": "scatter3d",
         "x": {
          "bdata": "WCalMT+l6b9YJqUxPyXsv1gmpTE/Jee/WCalMT+l6b9YJqUxPyXnv1gmpTE/Jee/WCalMT+l6b9YJqUxPyXnv1gmpTE/Jey/WCalMT+l6b9YJqUxPyXsv1gmpTE/Jey/",
          "dtype": "f8"
         },
         "y": {
          "bdata": "DGO109Sa1b8MY7XT1FrZvwxjtdPUWtm/DGO109Sa1b8MY7XT1FrZvwxjtdPU2tG/DGO109Sa1b8MY7XT1NrRvwxjtdPU2tG/DGO109Sa1b8MY7XT1NrRvwxjtdPUWtm/",
          "dtype": "f8"
         },
         "z": {
          "bdata": "eNgrpzp84r/wsFdOdfjYv/CwV051+Ni/eNgrpzp84r/wsFdOdfjYv/CwV051+Ni/eNgrpzp84r/wsFdOdfjYv/CwV051+Ni/eNgrpzp84r/wsFdOdfjYv/CwV051+Ni/",
          "dtype": "f8"
         }
        },
        {
         "hovertemplate": "Image(image_id=0, camera_id=0, name=\"0\", triangulated=50/50)",
         "legendgroup": "0",
         "line": {
          "color": "rgb(255,0,0)",
          "width": 1
         },
         "mode": "lines",
         "name": "0",
         "showlegend": false,
         "type": "scatter3d",
         "x": {
          "bdata": "FFmbdcbU1z8UWZt1xtTSPxRZm3XG1Nw/FFmbdcbU1z8UWZt1xtTcPxRZm3XG1Nw/FFmbdcbU1z8UWZt1xtTcPxRZm3XG1NI/FFmbdcbU1z8UWZt1xtTSPxRZm3XG1NI/",
          "dtype": "f8"
         },
         "y": {
          "bdata": "WMsUdjmWxD+wlinsciy6P7CWKexyLLo/WMsUdjmWxD+wlinsciy6P1jLFHY5Fsw/WMsUdjmWxD9YyxR2ORbMP1jLFHY5Fsw/WMsUdjmWxD9YyxR2ORbMP7CWKexyLLo/",
          "dtype": "f8"
         },
         "z": {
          "bdata": "rhe79j0k6L+uF7v2PSTiv64Xu/Y9JOK/rhe79j0k6L+uF7v2PSTiv64Xu/Y9JOK/rhe79j0k6L+uF7v2PSTiv64Xu/Y9JOK/rhe79j0k6L+uF7v2PSTiv64Xu/Y9JOK/",
          "dtype": "f8"
         }
        }
       ],
       "layout": {
        "height": 800,
        "legend": {
         "orientation": "h",
         "x": 0.1,
         "xanchor": "left",
         "y": 0.99,
         "yanchor": "top"
        },
        "margin": {
         "b": 0,
         "l": 0,
         "pad": 0,
         "r": 0,
         "t": 0
        },
        "scene": {
         "aspectmode": "data",
         "camera": {
          "eye": {
           "x": 0,
           "y": -0.1,
           "z": -2
          },
          "projection": {
           "type": "orthographic"
          },
          "up": {
           "x": 0,
           "y": -1,
           "z": 0
          }
         },
         "dragmode": "orbit",
         "xaxis": {
          "autorange": true,
          "showbackground": false,
          "showgrid": false,
          "showline": false,
          "showticklabels": true,
          "visible": false
         },
         "yaxis": {
          "autorange": true,
          "showbackground": false,
          "showgrid": false,
          "showline": false,
          "showticklabels": true,
          "visible": false
         },
         "zaxis": {
          "autorange": true,
          "showbackground": false,
          "showgrid": false,
          "showline": false,
          "showticklabels": true,
          "visible": false
         }
        },
        "template": {
         "data": {
          "bar": [
           {
            "error_x": {
             "color": "#f2f5fa"
            },
            "error_y": {
             "color": "#f2f5fa"
            },
            "marker": {
             "line": {
              "color": "rgb(17,17,17)",
              "width": 0.5
             },
             "pattern": {
              "fillmode": "overlay",
              "size": 10,
              "solidity": 0.2
             }
            },
            "type": "bar"
           }
          ],
          "barpolar": [
           {
            "marker": {
             "line": {
              "color": "rgb(17,17,17)",
              "width": 0.5
             },
             "pattern": {
              "fillmode": "overlay",
              "size": 10,
              "solidity": 0.2
             }
            },
            "type": "barpolar"
           }
          ],
          "carpet": [
           {
            "aaxis": {
             "endlinecolor": "#A2B1C6",
             "gridcolor": "#506784",
             "linecolor": "#506784",
             "minorgridcolor": "#506784",
             "startlinecolor": "#A2B1C6"
            },
            "baxis": {
             "endlinecolor": "#A2B1C6",
             "gridcolor": "#506784",
             "linecolor": "#506784",
             "minorgridcolor": "#506784",
             "startlinecolor": "#A2B1C6"
            },
            "type": "carpet"
           }
          ],
          "choropleth": [
           {
            "colorbar": {
             "outlinewidth": 0,
             "ticks": ""
            },
            "type": "choropleth"
           }
          ],
          "contour": [
           {
            "colorbar": {
             "outlinewidth": 0,
             "ticks": ""
            },
            "colorscale": [
             [
              0,
              "#0d0887"
             ],
             [
              0.1111111111111111,
              "#46039f"
             ],
             [
              0.2222222222222222,
              "#7201a8"
             ],
             [
              0.3333333333333333,
              "#9c179e"
             ],
             [
              0.4444444444444444,
              "#bd3786"
             ],
             [
              0.5555555555555556,
              "#d8576b"
             ],
             [
              0.6666666666666666,
              "#ed7953"
             ],
             [
              0.7777777777777778,
              "#fb9f3a"
             ],
             [
              0.8888888888888888,
              "#fdca26"
             ],
             [
              1,
              "#f0f921"
             ]
            ],
            "type": "contour"
           }
          ],
          "contourcarpet": [
           {
            "colorbar": {
             "outlinewidth": 0,
             "ticks": ""
            },
            "type": "contourcarpet"
           }
          ],
          "heatmap": [
           {
            "colorbar": {
             "outlinewidth": 0,
             "ticks": ""
            },
            "colorscale": [
             [
              0,
              "#0d0887"
             ],
             [
              0.1111111111111111,
              "#46039f"
             ],
             [
              0.2222222222222222,
              "#7201a8"
             ],
             [
              0.3333333333333333,
              "#9c179e"
             ],
             [
              0.4444444444444444,
              "#bd3786"
             ],
             [
              0.5555555555555556,
              "#d8576b"
             ],
             [
              0.6666666666666666,
              "#ed7953"
             ],
             [
              0.7777777777777778,
              "#fb9f3a"
             ],
             [
              0.8888888888888888,
              "#fdca26"
             ],
             [
              1,
              "#f0f921"
             ]
            ],
            "type": "heatmap"
           }
          ],
          "histogram": [
           {
            "marker": {
             "pattern": {
              "fillmode": "overlay",
              "size": 10,
              "solidity": 0.2
             }
            },
            "type": "histogram"
           }
          ],
          "histogram2d": [
           {
            "colorbar": {
             "outlinewidth": 0,
             "ticks": ""
            },
            "colorscale": [
             [
              0,
              "#0d0887"
             ],
             [
              0.1111111111111111,
              "#46039f"
             ],
             [
              0.2222222222222222,
              "#7201a8"
             ],
             [
              0.3333333333333333,
              "#9c179e"
             ],
             [
              0.4444444444444444,
              "#bd3786"
             ],
             [
              0.5555555555555556,
              "#d8576b"
             ],
             [
              0.6666666666666666,
              "#ed7953"
             ],
             [
              0.7777777777777778,
              "#fb9f3a"
             ],
             [
              0.8888888888888888,
              "#fdca26"
             ],
             [
              1,
              "#f0f921"
             ]
            ],
            "type": "histogram2d"
           }
          ],
          "histogram2dcontour": [
           {
            "colorbar": {
             "outlinewidth": 0,
             "ticks": ""
            },
            "colorscale": [
             [
              0,
              "#0d0887"
             ],
             [
              0.1111111111111111,
              "#46039f"
             ],
             [
              0.2222222222222222,
              "#7201a8"
             ],
             [
              0.3333333333333333,
              "#9c179e"
             ],
             [
              0.4444444444444444,
              "#bd3786"
             ],
             [
              0.5555555555555556,
              "#d8576b"
             ],
             [
              0.6666666666666666,
              "#ed7953"
             ],
             [
              0.7777777777777778,
              "#fb9f3a"
             ],
             [
              0.8888888888888888,
              "#fdca26"
             ],
             [
              1,
              "#f0f921"
             ]
            ],
            "type": "histogram2dcontour"
           }
          ],
          "mesh3d": [
           {
            "colorbar": {
             "outlinewidth": 0,
             "ticks": ""
            },
            "type": "mesh3d"
           }
          ],
          "parcoords": [
           {
            "line": {
             "colorbar": {
              "outlinewidth": 0,
              "ticks": ""
             }
            },
            "type": "parcoords"
           }
          ],
          "pie": [
           {
            "automargin": true,
            "type": "pie"
           }
          ],
          "scatter": [
           {
            "marker": {
             "line": {
              "color": "#283442"
             }
            },
            "type": "scatter"
           }
          ],
          "scatter3d": [
           {
            "line": {
             "colorbar": {
              "outlinewidth": 0,
              "ticks": ""
             }
            },
            "marker": {
             "colorbar": {
              "outlinewidth": 0,
              "ticks": ""
             }
            },
            "type": "scatter3d"
           }
          ],
          "scattercarpet": [
           {
            "marker": {
             "colorbar": {
              "outlinewidth": 0,
              "ticks": ""
             }
            },
            "type": "scattercarpet"
           }
          ],
          "scattergeo": [
           {
            "marker": {
             "colorbar": {
              "outlinewidth": 0,
              "ticks": ""
             }
            },
            "type": "scattergeo"
           }
          ],
          "scattergl": [
           {
            "marker": {
             "line": {
              "color": "#283442"
             }
            },
            "type": "scattergl"
           }
          ],
          "scattermap": [
           {
            "marker": {
             "colorbar": {
              "outlinewidth": 0,
              "ticks": ""
             }
            },
            "type": "scattermap"
           }
          ],
          "scattermapbox": [
           {
            "marker": {
             "colorbar": {
              "outlinewidth": 0,
              "ticks": ""
             }
            },
            "type": "scattermapbox"
           }
          ],
          "scatterpolar": [
           {
            "marker": {
             "colorbar": {
              "outlinewidth": 0,
              "ticks": ""
             }
            },
            "type": "scatterpolar"
           }
          ],
          "scatterpolargl": [
           {
            "marker": {
             "colorbar": {
              "outlinewidth": 0,
              "ticks": ""
             }
            },
            "type": "scatterpolargl"
           }
          ],
          "scatterternary": [
           {
            "marker": {
             "colorbar": {
              "outlinewidth": 0,
              "ticks": ""
             }
            },
            "type": "scatterternary"
           }
          ],
          "surface": [
           {
            "colorbar": {
             "outlinewidth": 0,
             "ticks": ""
            },
            "colorscale": [
             [
              0,
              "#0d0887"
             ],
             [
              0.1111111111111111,
              "#46039f"
             ],
             [
              0.2222222222222222,
              "#7201a8"
             ],
             [
              0.3333333333333333,
              "#9c179e"
             ],
             [
              0.4444444444444444,
              "#bd3786"
             ],
             [
              0.5555555555555556,
              "#d8576b"
             ],
             [
              0.6666666666666666,
              "#ed7953"
             ],
             [
              0.7777777777777778,
              "#fb9f3a"
             ],
             [
              0.8888888888888888,
              "#fdca26"
             ],
             [
              1,
              "#f0f921"
             ]
            ],
            "type": "surface"
           }
          ],
          "table": [
           {
            "cells": {
             "fill": {
              "color": "#506784"
             },
             "line": {
              "color": "rgb(17,17,17)"
             }
            },
            "header": {
             "fill": {
              "color": "#2a3f5f"
             },
             "line": {
              "color": "rgb(17,17,17)"
             }
            },
            "type": "table"
           }
          ]
         },
         "layout": {
          "annotationdefaults": {
           "arrowcolor": "#f2f5fa",
           "arrowhead": 0,
           "arrowwidth": 1
          },
          "autotypenumbers": "strict",
          "coloraxis": {
           "colorbar": {
            "outlinewidth": 0,
            "ticks": ""
           }
          },
          "colorscale": {
           "diverging": [
            [
             0,
             "#8e0152"
            ],
            [
             0.1,
             "#c51b7d"
            ],
            [
             0.2,
             "#de77ae"
            ],
            [
             0.3,
             "#f1b6da"
            ],
            [
             0.4,
             "#fde0ef"
            ],
            [
             0.5,
             "#f7f7f7"
            ],
            [
             0.6,
             "#e6f5d0"
            ],
            [
             0.7,
             "#b8e186"
            ],
            [
             0.8,
             "#7fbc41"
            ],
            [
             0.9,
             "#4d9221"
            ],
            [
             1,
             "#276419"
            ]
           ],
           "sequential": [
            [
             0,
             "#0d0887"
            ],
            [
             0.1111111111111111,
             "#46039f"
            ],
            [
             0.2222222222222222,
             "#7201a8"
            ],
            [
             0.3333333333333333,
             "#9c179e"
            ],
            [
             0.4444444444444444,
             "#bd3786"
            ],
            [
             0.5555555555555556,
             "#d8576b"
            ],
            [
             0.6666666666666666,
             "#ed7953"
            ],
            [
             0.7777777777777778,
             "#fb9f3a"
            ],
            [
             0.8888888888888888,
             "#fdca26"
            ],
            [
             1,
             "#f0f921"
            ]
           ],
           "sequentialminus": [
            [
             0,
             "#0d0887"
            ],
            [
             0.1111111111111111,
             "#46039f"
            ],
            [
             0.2222222222222222,
             "#7201a8"
            ],
            [
             0.3333333333333333,
             "#9c179e"
            ],
            [
             0.4444444444444444,
             "#bd3786"
            ],
            [
             0.5555555555555556,
             "#d8576b"
            ],
            [
             0.6666666666666666,
             "#ed7953"
            ],
            [
             0.7777777777777778,
             "#fb9f3a"
            ],
            [
             0.8888888888888888,
             "#fdca26"
            ],
            [
             1,
             "#f0f921"
            ]
           ]
          },
          "colorway": [
           "#636efa",
           "#EF553B",
           "#00cc96",
           "#ab63fa",
           "#FFA15A",
           "#19d3f3",
           "#FF6692",
           "#B6E880",
           "#FF97FF",
           "#FECB52"
          ],
          "font": {
           "color": "#f2f5fa"
          },
          "geo": {
           "bgcolor": "rgb(17,17,17)",
           "lakecolor": "rgb(17,17,17)",
           "landcolor": "rgb(17,17,17)",
           "showlakes": true,
           "showland": true,
           "subunitcolor": "#506784"
          },
          "hoverlabel": {
           "align": "left"
          },
          "hovermode": "closest",
          "mapbox": {
           "style": "dark"
          },
          "paper_bgcolor": "rgb(17,17,17)",
          "plot_bgcolor": "rgb(17,17,17)",
          "polar": {
           "angularaxis": {
            "gridcolor": "#506784",
            "linecolor": "#506784",
            "ticks": ""
           },
           "bgcolor": "rgb(17,17,17)",
           "radialaxis": {
            "gridcolor": "#506784",
            "linecolor": "#506784",
            "ticks": ""
           }
          },
          "scene": {
           "xaxis": {
            "backgroundcolor": "rgb(17,17,17)",
            "gridcolor": "#506784",
            "gridwidth": 2,
            "linecolor": "#506784",
            "showbackground": true,
            "ticks": "",
            "zerolinecolor": "#C8D4E3"
           },
           "yaxis": {
            "backgroundcolor": "rgb(17,17,17)",
            "gridcolor": "#506784",
            "gridwidth": 2,
            "linecolor": "#506784",
            "showbackground": true,
            "ticks": "",
            "zerolinecolor": "#C8D4E3"
           },
           "zaxis": {
            "backgroundcolor": "rgb(17,17,17)",
            "gridcolor": "#506784",
            "gridwidth": 2,
            "linecolor": "#506784",
            "showbackground": true,
            "ticks": "",
            "zerolinecolor": "#C8D4E3"
           }
          },
          "shapedefaults": {
           "line": {
            "color": "#f2f5fa"
           }
          },
          "sliderdefaults": {
           "bgcolor": "#C8D4E3",
           "bordercolor": "rgb(17,17,17)",
           "borderwidth": 1,
           "tickwidth": 0
          },
          "ternary": {
           "aaxis": {
            "gridcolor": "#506784",
            "linecolor": "#506784",
            "ticks": ""
           },
           "baxis": {
            "gridcolor": "#506784",
            "linecolor": "#506784",
            "ticks": ""
           },
           "bgcolor": "rgb(17,17,17)",
           "caxis": {
            "gridcolor": "#506784",
            "linecolor": "#506784",
            "ticks": ""
           }
          },
          "title": {
           "x": 0.05
          },
          "updatemenudefaults": {
           "bgcolor": "#506784",
           "borderwidth": 0
          },
          "xaxis": {
           "automargin": true,
           "gridcolor": "#283442",
           "linecolor": "#506784",
           "ticks": "",
           "title": {
            "standoff": 15
           },
           "zerolinecolor": "#283442",
           "zerolinewidth": 2
          },
          "yaxis": {
           "automargin": true,
           "gridcolor": "#283442",
           "linecolor": "#506784",
           "ticks": "",
           "title": {
            "standoff": 15
           },
           "zerolinecolor": "#283442",
           "zerolinewidth": 2
          }
         }
        }
       }
      }
     },
     "metadata": {},
     "output_type": "display_data"
    }
   ],
   "source": [
    "fig = viz_3d.init_figure()\n",
    "viz_3d.plot_reconstruction(\n",
    "    fig, rec_gt, min_track_length=0, color=\"rgb(255,0,0)\", points_rgb=False\n",
    ")\n",
    "fig.show()"
   ]
  },
  {
   "cell_type": "markdown",
   "id": "98a6db79",
   "metadata": {},
   "source": [
    "## Optimize 3D points"
   ]
  },
  {
   "cell_type": "code",
   "execution_count": 18,
   "id": "e199af72",
   "metadata": {},
   "outputs": [],
   "source": [
    "def define_problem(rec): #ORIGINAL\n",
    "    prob = pyceres.Problem()\n",
    "    loss = pyceres.TrivialLoss()\n",
    "    for im in rec.images.values():\n",
    "        cam = rec.cameras[im.camera_id]\n",
    "        for p in im.points2D:\n",
    "            cost = pycolmap.cost_functions.ReprojErrorCost(\n",
    "                cam.model, im.cam_from_world, p.xy\n",
    "            )\n",
    "            prob.add_residual_block(\n",
    "                cost, loss, [rec.points3D[p.point3D_id].xyz, cam.params]\n",
    "            )\n",
    "    for cam in rec.cameras.values():\n",
    "        prob.set_parameter_block_constant(cam.params)\n",
    "    return prob\n",
    "\n",
    "def solve(prob):\n",
    "    print(\n",
    "        prob.num_parameter_blocks(),\n",
    "        prob.num_parameters(),\n",
    "        prob.num_residual_blocks(),\n",
    "        prob.num_residuals(),\n",
    "    )\n",
    "    options = pyceres.SolverOptions()\n",
    "    options.linear_solver_type = pyceres.LinearSolverType.DENSE_QR\n",
    "    options.minimizer_progress_to_stdout = True\n",
    "    options.num_threads = -1\n",
    "    summary = pyceres.SolverSummary()\n",
    "    pyceres.solve(options, prob, summary)\n",
    "    print(summary.BriefReport())"
   ]
  },
  {
   "cell_type": "code",
   "execution_count": 19,
   "id": "ac2305ec",
   "metadata": {},
   "outputs": [
    {
     "name": "stdout",
     "output_type": "stream",
     "text": [
      "51 153 100 200\n",
      "iter      cost      cost_change  |gradient|   |step|    tr_ratio  tr_radius  ls_iter  iter_time  total_time\n",
      "   0  5.119392e-26    0.00e+00    3.16e-11   0.00e+00   0.00e+00  1.00e+04        0    2.97e-04    1.30e-03\n",
      "Ceres Solver Report: Iterations: 1, Initial cost: 5.119392e-26, Final cost: 5.119392e-26, Termination: CONVERGENCE\n"
     ]
    }
   ],
   "source": [
    "rec = create_reconstruction()\n",
    "problem = define_problem(rec)\n",
    "solve(problem)"
   ]
  },
  {
   "cell_type": "code",
   "execution_count": null,
   "id": "b3234540",
   "metadata": {},
   "outputs": [],
   "source": []
  },
  {
   "cell_type": "markdown",
   "id": "43df4cd1",
   "metadata": {},
   "source": [
    "Add some noise"
   ]
  },
  {
   "cell_type": "code",
   "execution_count": 20,
   "id": "356a7ad2",
   "metadata": {},
   "outputs": [
    {
     "name": "stdout",
     "output_type": "stream",
     "text": [
      "[0.15040931 0.63148501 2.68457285]\n",
      "51 153 100 200\n",
      "iter      cost      cost_change  |gradient|   |step|    tr_ratio  tr_radius  ls_iter  iter_time  total_time\n",
      "   0  1.074601e+05    0.00e+00    3.34e+04   0.00e+00   0.00e+00  1.00e+04        0    2.31e-04    9.33e-04\n",
      "   1  1.048585e+02    1.07e+05    1.33e+03   1.77e+00   9.99e-01  3.00e+04        1    2.33e-03    3.29e-03\n",
      "   2  8.359400e-05    1.05e+02    1.50e+00   4.77e-02   1.00e+00  9.00e+04        1    2.20e-03    5.51e-03\n",
      "   3  2.083842e-14    8.36e-05    1.75e-05   4.03e-05   1.00e+00  2.70e+05        1    1.94e-03    7.46e-03\n",
      "Ceres Solver Report: Iterations: 4, Initial cost: 1.074601e+05, Final cost: 2.083842e-14, Termination: CONVERGENCE\n"
     ]
    }
   ],
   "source": [
    "rec = create_reconstruction()\n",
    "for p in rec.points3D.values():\n",
    "    p.xyz += np.random.RandomState(0).uniform(-0.5, 0.5, 3)\n",
    "print(rec.points3D[1].xyz)\n",
    "problem = define_problem(rec)\n",
    "solve(problem)"
   ]
  },
  {
   "cell_type": "markdown",
   "id": "8e24927e",
   "metadata": {},
   "source": [
    "## Optimize poses"
   ]
  },
  {
   "cell_type": "code",
   "execution_count": 21,
   "id": "2d9aca7e",
   "metadata": {},
   "outputs": [
    {
     "name": "stdout",
     "output_type": "stream",
     "text": [
      "[np.float64(1.1219738478901715), np.float64(0.29153152220166934)]\n",
      "[np.float64(32.546967105288715), np.float64(16.036538808692125)]\n",
      "55 167 100 200\n",
      "iter      cost      cost_change  |gradient|   |step|    tr_ratio  tr_radius  ls_iter  iter_time  total_time\n",
      "   0  5.661147e+05    0.00e+00    1.00e+06   0.00e+00   0.00e+00  1.00e+04        0    2.16e-04    6.86e-04\n",
      "   1  1.589775e+04    5.50e+05    1.22e+05   8.21e-01   9.73e-01  3.00e+04        1    4.77e-04    1.19e-03\n",
      "   2  2.077984e+02    1.57e+04    2.08e+04   4.43e-01   9.87e-01  9.00e+04        1    2.81e-04    1.49e-03\n",
      "   3  3.067690e-02    2.08e+02    2.50e+02   4.13e-02   1.00e+00  2.70e+05        1    2.62e-04    1.77e-03\n",
      "   4  8.020149e-10    3.07e-02    2.25e-01   5.20e-04   1.00e+00  8.10e+05        1    2.70e-04    2.06e-03\n",
      "   5  1.703731e-19    8.02e-10    2.99e-07   9.13e-08   1.00e+00  2.43e+06        1    2.79e-04    2.34e-03\n",
      "Ceres Solver Report: Iterations: 6, Initial cost: 5.661147e+05, Final cost: 1.703731e-19, Termination: CONVERGENCE\n",
      "[np.float64(2.2088752356698325e-12), np.float64(5.697402360258597e-15)]\n",
      "[np.float64(3.43760086011565e-11), np.float64(8.604298389459717e-14)]\n"
     ]
    }
   ],
   "source": [
    "def define_problem2(rec):\n",
    "    prob = pyceres.Problem()\n",
    "    loss = pyceres.TrivialLoss()\n",
    "    for im in rec.images.values():\n",
    "        cam = rec.cameras[im.camera_id]\n",
    "        for p in im.points2D:\n",
    "            cost = pycolmap.cost_functions.ReprojErrorCost(cam.model, p.xy)\n",
    "            pose = im.cam_from_world\n",
    "            params = [\n",
    "                pose.rotation.quat,\n",
    "                pose.translation,\n",
    "                rec.points3D[p.point3D_id].xyz,\n",
    "                cam.params,\n",
    "            ]\n",
    "            prob.add_residual_block(cost, loss, params)\n",
    "        prob.set_manifold(\n",
    "            im.cam_from_world.rotation.quat, pyceres.EigenQuaternionManifold()\n",
    "        )\n",
    "    for cam in rec.cameras.values():\n",
    "        prob.set_parameter_block_constant(cam.params)\n",
    "    for p in rec.points3D.values():\n",
    "        prob.set_parameter_block_constant(p.xyz)\n",
    "    return prob\n",
    "\n",
    "\n",
    "rec = create_reconstruction()\n",
    "for im in rec.images.values():\n",
    "    im.cam_from_world.translation += np.random.randn(3) / 2\n",
    "    im.cam_from_world.rotation *= pycolmap.Rotation3d(np.random.randn(3) / 5)\n",
    "    im.cam_from_world.rotation.normalize()\n",
    "rec_init = rec.__deepcopy__({})\n",
    "init_from_gt = [\n",
    "    rec.images[i].cam_from_world * rec_gt.images[i].cam_from_world.inverse()\n",
    "    for i in rec.images\n",
    "]\n",
    "print([np.linalg.norm(t.translation) for t in init_from_gt])\n",
    "print([np.rad2deg(t.rotation.angle()) for t in init_from_gt])\n",
    "problem = define_problem2(rec)\n",
    "solve(problem)\n",
    "opt_from_gt = [\n",
    "    rec.images[i].cam_from_world * rec_gt.images[i].cam_from_world.inverse()\n",
    "    for i in rec.images\n",
    "]\n",
    "print([np.linalg.norm(t.translation) for t in opt_from_gt])\n",
    "print([np.rad2deg(t.rotation.angle()) for t in opt_from_gt])"
   ]
  },
  {
   "cell_type": "code",
   "execution_count": 22,
   "id": "31196ca9",
   "metadata": {},
   "outputs": [
    {
     "name": "stdout",
     "output_type": "stream",
     "text": [
      "[0.80142173 0.33757516 0.57766469] [0.80142173 0.33757516 0.57766469]\n",
      "[-7.14886602e-14  2.90551251e-13  2.14872540e-14  1.00000000e+00] [0. 0. 0. 1.]\n",
      "[-0.37236177 -0.16083449  0.75442408] [-0.37236177 -0.16083449  0.75442408]\n",
      "[-7.23833806e-16  1.88096324e-16 -6.69714114e-17  1.00000000e+00] [0. 0. 0. 1.]\n"
     ]
    },
    {
     "data": {
      "text/plain": [
       "(array([0.10159581, 0.41629565, 2.58180948]),\n",
       " array([0.10159581, 0.41629565, 2.58180948]))"
      ]
     },
     "execution_count": 22,
     "metadata": {},
     "output_type": "execute_result"
    }
   ],
   "source": [
    "assert np.allclose(rec.cameras[0].params, rec_gt.cameras[0].params)\n",
    "for i in rec.images:\n",
    "    print(\n",
    "        rec.images[i].cam_from_world.translation,\n",
    "        rec_gt.images[i].cam_from_world.translation,\n",
    "    )\n",
    "    print(\n",
    "        rec.images[i].cam_from_world.rotation.quat,\n",
    "        rec_gt.images[i].cam_from_world.rotation.quat,\n",
    "    )\n",
    "rec.points3D[1].xyz, rec_gt.points3D[1].xyz"
   ]
  },
  {
   "cell_type": "code",
   "execution_count": 23,
   "id": "aab4bcbd",
   "metadata": {},
   "outputs": [
    {
     "data": {
      "application/vnd.plotly.v1+json": {
       "config": {
        "plotlyServerURL": "https://plot.ly"
       },
       "data": [
        {
         "legendgroup": "init",
         "marker": {
          "color": "rgb(255,255,255)",
          "line": {
           "width": 0
          },
          "size": 1
         },
         "mode": "markers",
         "name": "init",
         "type": "scatter3d",
         "x": {
          "bdata": "uF17vsMI0r/ERezUj/TYP1hs7RKxxNq/9FWP2lFk1L9IL3o9A63ev3DYwbSa3rQ/IKYWlbaGpb8qcMmFoJnivxJyH/O/Seu/YKrKn5/ltr8gI2MiT2PrP+BXCt7+UbY/8jVgKYBu478o1ogE9BvRPzwjXUwLVN8/kAcZjgn43D9gTjQp9jjev4gemOz3otM/KiIxQ8gg5j+wANsoccvhv1CWfXA83LY/nMtiSb642D9M7o/Z0NDev/DDOR3JQsc/4ABz8yYX0z9gAogTLE6+v8zJrAdp9ue/AGO+kcgslj+gwYbELgK6PwZPef20mOG/RPs+RrCJ3b90Lk3V/BLnP8yVA6o7a9y/RGZ9d5wc478AvOxG9M6gv4g7UVdhld8/HNl/At8t0L8gpG96nqLCP5qH1L8bPuG/0NQWqAmq3D9qGZjgxbbrv/rcE9DoR+a/sBdwBzhHuz+c7EUFDj/XPw==",
          "dtype": "f8"
         },
         "y": {
          "bdata": "7I9+disE3T9e5nys0dnlP+REkM3J294/WA5t8mTc678M2YcXuJLYP9x7/Af8mOU/VLCoDf7T3L8YIgcE2IfdPzwG91D4HOk/sA5sa4UM4r90hCYqVmjiP3LR+svdQOq/FmYhZha147/4s+Ph2yjRv+AMWC6PhdQ/ANOFGfo7pL8y6Y4+eU/rP6APq+1Nnb0/MNhoUsg7z7/YrwJp6q3Mv4Riilat8OE/gLVnrtl8vr84sU+O7bvFv2yW37EUd+6/pGdWWoda3L8uSNYWghbuvyRTBF6IvOK/VBp/+wom6T9obnB9lqTaP5jJ/Y1P7se/VA+/zIim2r940t+bqxTGP+DrL3vGO7e/AHlO12m+nD+A2jO6NaTRvzwN75y7ddg/ECPU93CF1T84gqd380vWvxQZuMdVgtg/IP59Cl+Cqb/cCshVJFvrv5hzdfLjl+m/3N5Ph9f647+gSCXXhwC1Pw==",
          "dtype": "f8"
         },
         "z": {
          "bdata": "g7ET4UE7AkDy99Y3aqILQK7DKUxOhwJATC9/JW/TDUB2NGqNQVQOQByL+xd1uAJAuqr9g4FvCkAwpMu1/2oKQBLtE9YpPgpAnlGvst3VAkCCF8Yp8sIHQPM/WMBs0gdAlN9nwFecC0BkPBeNc9gIQD9Lkoeknw5AZimzMEF5DUBvfySzVW0NQBDWCyL4yAVA79LTirh5AUD8jQpsbfsOQDjig3Ld5gRAWcLovoeCAkBM25yYUYkEQAaC8vsQ8QhAxjr8qPDRCkAzBuhaME8HQPvlL0bP0gBAVpkJbDdXDkDIHj66i6cEQH4Of33HgAdAtKhO+a5SB0A+WZ+RKokEQItqhVtcSQNA5KBin0plAUCOPQg1r1ILQAzwoQriBgtAjooUJwVwBUDIAklqUB8HQFBTDWxaaApAd/dpUO+LCUDQJFp8AS8DQH8YgXGWEQJAwMxUg847D0BsXg2bnFALQA==",
          "dtype": "f8"
         }
        },
        {
         "hovertemplate": "Image(image_id=1, camera_id=0, name=\"1\", triangulated=50/50)",
         "legendgroup": "init",
         "line": {
          "color": "rgb(255,255,255)",
          "width": 1
         },
         "mode": "lines",
         "name": "1",
         "showlegend": false,
         "type": "scatter3d",
         "x": {
          "bdata": "OgemPoSMuD8QZWC5WdeZP6hAM/j4KMQ/OgemPoSMuD+oQDP4+CjEPyU4gESyS7k/OgemPoSMuD8lOIBEsku5P8xfHHvSIKG/OgemPoSMuD/MXxx70iChvxBlYLlZ15k/",
          "dtype": "f8"
         },
         "y": {
          "bdata": "A7JUcJuR77/JasXGhh7xv03NBkU7qu+/A7JUcJuR779NzQZFO6rvv6/mR9Duc+y/A7JUcJuR77+v5kfQ7nPsv/TuyxjBBu+/A7JUcJuR77/07ssYwQbvv8lqxcaGHvG/",
          "dtype": "f8"
         },
         "z": {
          "bdata": "pOLn3iBu2b9PRgwQJbPLvwTC1a9C+si/pOLn3iBu2b8EwtWvQvrIv7c7buQp2Mq/pOLn3iBu2b+3O27kKdjKvwLApEQMkc2/pOLn3iBu2b8CwKREDJHNv09GDBAls8u/",
          "dtype": "f8"
         }
        },
        {
         "hovertemplate": "Image(image_id=0, camera_id=0, name=\"0\", triangulated=50/50)",
         "legendgroup": "init",
         "line": {
          "color": "rgb(255,255,255)",
          "width": 1
         },
         "mode": "lines",
         "name": "0",
         "showlegend": false,
         "type": "scatter3d",
         "x": {
          "bdata": "lkNqRf690D8CHFnYvvPMP54ey02NF9g/lkNqRf690D+eHstNjRfYP9gpNCORT9Y/lkNqRf690D/YKTQjkU/WP3YyK4PGY8k/lkNqRf690D92MiuDxmPJPwIcWdi+88w/",
          "dtype": "f8"
         },
         "y": {
          "bdata": "2YP+kiI4yz83wJ0tA8XCP7RLuBStbcc/2YP+kiI4yz+0S7gUrW3HP1Ngofqx/9I/2YP+kiI4yz9TYKH6sf/SP5QaFAddq9A/2YP+kiI4yz+UGhQHXavQPzfAnS0DxcI/",
          "dtype": "f8"
         },
         "z": {
          "bdata": "wVas3xpO8L/xfnm4ukjqv7wVKeyNAuu/wVas3xpO8L+8FSnsjQLrvw77zQCREOu/wVas3xpO8L8O+80AkRDrv0NkHs29Vuq/wVas3xpO8L9DZB7NvVbqv/F+ebi6SOq/",
          "dtype": "f8"
         }
        },
        {
         "legendgroup": "GT",
         "marker": {
          "color": "rgb(255,0,0)",
          "line": {
           "width": 0
          },
          "size": 1
         },
         "mode": "markers",
         "name": "GT",
         "type": "scatter3d",
         "x": {
          "bdata": "uF17vsMI0r/ERezUj/TYP1hs7RKxxNq/9FWP2lFk1L9IL3o9A63ev3DYwbSa3rQ/IKYWlbaGpb8qcMmFoJnivxJyH/O/Seu/YKrKn5/ltr8gI2MiT2PrP+BXCt7+UbY/8jVgKYBu478o1ogE9BvRPzwjXUwLVN8/kAcZjgn43D9gTjQp9jjev4gemOz3otM/KiIxQ8gg5j+wANsoccvhv1CWfXA83LY/nMtiSb642D9M7o/Z0NDev/DDOR3JQsc/4ABz8yYX0z9gAogTLE6+v8zJrAdp9ue/AGO+kcgslj+gwYbELgK6PwZPef20mOG/RPs+RrCJ3b90Lk3V/BLnP8yVA6o7a9y/RGZ9d5wc478AvOxG9M6gv4g7UVdhld8/HNl/At8t0L8gpG96nqLCP5qH1L8bPuG/0NQWqAmq3D9qGZjgxbbrv/rcE9DoR+a/sBdwBzhHuz+c7EUFDj/XPw==",
          "dtype": "f8"
         },
         "y": {
          "bdata": "7I9+disE3T9e5nys0dnlP+REkM3J294/WA5t8mTc678M2YcXuJLYP9x7/Af8mOU/VLCoDf7T3L8YIgcE2IfdPzwG91D4HOk/sA5sa4UM4r90hCYqVmjiP3LR+svdQOq/FmYhZha147/4s+Ph2yjRv+AMWC6PhdQ/ANOFGfo7pL8y6Y4+eU/rP6APq+1Nnb0/MNhoUsg7z7/YrwJp6q3Mv4Riilat8OE/gLVnrtl8vr84sU+O7bvFv2yW37EUd+6/pGdWWoda3L8uSNYWghbuvyRTBF6IvOK/VBp/+wom6T9obnB9lqTaP5jJ/Y1P7se/VA+/zIim2r940t+bqxTGP+DrL3vGO7e/AHlO12m+nD+A2jO6NaTRvzwN75y7ddg/ECPU93CF1T84gqd380vWvxQZuMdVgtg/IP59Cl+Cqb/cCshVJFvrv5hzdfLjl+m/3N5Ph9f647+gSCXXhwC1Pw==",
          "dtype": "f8"
         },
         "z": {
          "bdata": "g7ET4UE7AkDy99Y3aqILQK7DKUxOhwJATC9/JW/TDUB2NGqNQVQOQByL+xd1uAJAuqr9g4FvCkAwpMu1/2oKQBLtE9YpPgpAnlGvst3VAkCCF8Yp8sIHQPM/WMBs0gdAlN9nwFecC0BkPBeNc9gIQD9Lkoeknw5AZimzMEF5DUBvfySzVW0NQBDWCyL4yAVA79LTirh5AUD8jQpsbfsOQDjig3Ld5gRAWcLovoeCAkBM25yYUYkEQAaC8vsQ8QhAxjr8qPDRCkAzBuhaME8HQPvlL0bP0gBAVpkJbDdXDkDIHj66i6cEQH4Of33HgAdAtKhO+a5SB0A+WZ+RKokEQItqhVtcSQNA5KBin0plAUCOPQg1r1ILQAzwoQriBgtAjooUJwVwBUDIAklqUB8HQFBTDWxaaApAd/dpUO+LCUDQJFp8AS8DQH8YgXGWEQJAwMxUg847D0BsXg2bnFALQA==",
          "dtype": "f8"
         }
        },
        {
         "hovertemplate": "Image(image_id=1, camera_id=0, name=\"1\", triangulated=50/50)",
         "legendgroup": "GT",
         "line": {
          "color": "rgb(255,0,0)",
          "width": 1
         },
         "mode": "lines",
         "name": "1",
         "showlegend": false,
         "type": "scatter3d",
         "x": {
          "bdata": "WCalMT+l6b9YJqUxPyXsv1gmpTE/Jee/WCalMT+l6b9YJqUxPyXnv1gmpTE/Jee/WCalMT+l6b9YJqUxPyXnv1gmpTE/Jey/WCalMT+l6b9YJqUxPyXsv1gmpTE/Jey/",
          "dtype": "f8"
         },
         "y": {
          "bdata": "DGO109Sa1b8MY7XT1FrZvwxjtdPUWtm/DGO109Sa1b8MY7XT1FrZvwxjtdPU2tG/DGO109Sa1b8MY7XT1NrRvwxjtdPU2tG/DGO109Sa1b8MY7XT1NrRvwxjtdPUWtm/",
          "dtype": "f8"
         },
         "z": {
          "bdata": "eNgrpzp84r/wsFdOdfjYv/CwV051+Ni/eNgrpzp84r/wsFdOdfjYv/CwV051+Ni/eNgrpzp84r/wsFdOdfjYv/CwV051+Ni/eNgrpzp84r/wsFdOdfjYv/CwV051+Ni/",
          "dtype": "f8"
         }
        },
        {
         "hovertemplate": "Image(image_id=0, camera_id=0, name=\"0\", triangulated=50/50)",
         "legendgroup": "GT",
         "line": {
          "color": "rgb(255,0,0)",
          "width": 1
         },
         "mode": "lines",
         "name": "0",
         "showlegend": false,
         "type": "scatter3d",
         "x": {
          "bdata": "FFmbdcbU1z8UWZt1xtTSPxRZm3XG1Nw/FFmbdcbU1z8UWZt1xtTcPxRZm3XG1Nw/FFmbdcbU1z8UWZt1xtTcPxRZm3XG1NI/FFmbdcbU1z8UWZt1xtTSPxRZm3XG1NI/",
          "dtype": "f8"
         },
         "y": {
          "bdata": "WMsUdjmWxD+wlinsciy6P7CWKexyLLo/WMsUdjmWxD+wlinsciy6P1jLFHY5Fsw/WMsUdjmWxD9YyxR2ORbMP1jLFHY5Fsw/WMsUdjmWxD9YyxR2ORbMP7CWKexyLLo/",
          "dtype": "f8"
         },
         "z": {
          "bdata": "rhe79j0k6L+uF7v2PSTiv64Xu/Y9JOK/rhe79j0k6L+uF7v2PSTiv64Xu/Y9JOK/rhe79j0k6L+uF7v2PSTiv64Xu/Y9JOK/rhe79j0k6L+uF7v2PSTiv64Xu/Y9JOK/",
          "dtype": "f8"
         }
        },
        {
         "legendgroup": "optimized",
         "marker": {
          "color": "rgb(0,255,0)",
          "line": {
           "width": 0
          },
          "size": 1
         },
         "mode": "markers",
         "name": "optimized",
         "type": "scatter3d",
         "x": {
          "bdata": "uF17vsMI0r/ERezUj/TYP1hs7RKxxNq/9FWP2lFk1L9IL3o9A63ev3DYwbSa3rQ/IKYWlbaGpb8qcMmFoJnivxJyH/O/Seu/YKrKn5/ltr8gI2MiT2PrP+BXCt7+UbY/8jVgKYBu478o1ogE9BvRPzwjXUwLVN8/kAcZjgn43D9gTjQp9jjev4gemOz3otM/KiIxQ8gg5j+wANsoccvhv1CWfXA83LY/nMtiSb642D9M7o/Z0NDev/DDOR3JQsc/4ABz8yYX0z9gAogTLE6+v8zJrAdp9ue/AGO+kcgslj+gwYbELgK6PwZPef20mOG/RPs+RrCJ3b90Lk3V/BLnP8yVA6o7a9y/RGZ9d5wc478AvOxG9M6gv4g7UVdhld8/HNl/At8t0L8gpG96nqLCP5qH1L8bPuG/0NQWqAmq3D9qGZjgxbbrv/rcE9DoR+a/sBdwBzhHuz+c7EUFDj/XPw==",
          "dtype": "f8"
         },
         "y": {
          "bdata": "7I9+disE3T9e5nys0dnlP+REkM3J294/WA5t8mTc678M2YcXuJLYP9x7/Af8mOU/VLCoDf7T3L8YIgcE2IfdPzwG91D4HOk/sA5sa4UM4r90hCYqVmjiP3LR+svdQOq/FmYhZha147/4s+Ph2yjRv+AMWC6PhdQ/ANOFGfo7pL8y6Y4+eU/rP6APq+1Nnb0/MNhoUsg7z7/YrwJp6q3Mv4Riilat8OE/gLVnrtl8vr84sU+O7bvFv2yW37EUd+6/pGdWWoda3L8uSNYWghbuvyRTBF6IvOK/VBp/+wom6T9obnB9lqTaP5jJ/Y1P7se/VA+/zIim2r940t+bqxTGP+DrL3vGO7e/AHlO12m+nD+A2jO6NaTRvzwN75y7ddg/ECPU93CF1T84gqd380vWvxQZuMdVgtg/IP59Cl+Cqb/cCshVJFvrv5hzdfLjl+m/3N5Ph9f647+gSCXXhwC1Pw==",
          "dtype": "f8"
         },
         "z": {
          "bdata": "g7ET4UE7AkDy99Y3aqILQK7DKUxOhwJATC9/JW/TDUB2NGqNQVQOQByL+xd1uAJAuqr9g4FvCkAwpMu1/2oKQBLtE9YpPgpAnlGvst3VAkCCF8Yp8sIHQPM/WMBs0gdAlN9nwFecC0BkPBeNc9gIQD9Lkoeknw5AZimzMEF5DUBvfySzVW0NQBDWCyL4yAVA79LTirh5AUD8jQpsbfsOQDjig3Ld5gRAWcLovoeCAkBM25yYUYkEQAaC8vsQ8QhAxjr8qPDRCkAzBuhaME8HQPvlL0bP0gBAVpkJbDdXDkDIHj66i6cEQH4Of33HgAdAtKhO+a5SB0A+WZ+RKokEQItqhVtcSQNA5KBin0plAUCOPQg1r1ILQAzwoQriBgtAjooUJwVwBUDIAklqUB8HQFBTDWxaaApAd/dpUO+LCUDQJFp8AS8DQH8YgXGWEQJAwMxUg847D0BsXg2bnFALQA==",
          "dtype": "f8"
         }
        },
        {
         "hovertemplate": "Image(image_id=1, camera_id=0, name=\"1\", triangulated=50/50)",
         "legendgroup": "optimized",
         "line": {
          "color": "rgb(0,255,0)",
          "width": 1
         },
         "mode": "lines",
         "name": "1",
         "showlegend": false,
         "type": "scatter3d",
         "x": {
          "bdata": "ftukMT+l6b9q36QxPyXsv2rfpDE/Jee/ftukMT+l6b9q36QxPyXnvz3fpDE/Jee/ftukMT+l6b8936QxPyXnvz3fpDE/Jey/ftukMT+l6b8936QxPyXsv2rfpDE/Jey/",
          "dtype": "f8"
         },
         "y": {
          "bdata": "Tju109Sa1b/0PLXT1FrZv209tdPUWtm/Tju109Sa1b9tPbXT1FrZv209tdPU2tG/Tju109Sa1b9tPbXT1NrRv/Q8tdPU2tG/Tju109Sa1b/0PLXT1NrRv/Q8tdPUWtm/",
          "dtype": "f8"
         },
         "z": {
          "bdata": "/N4rpzp84r/AwVdOdfjYv127V051+Ni//N4rpzp84r9du1dOdfjYvzC6V051+Ni//N4rpzp84r8wuldOdfjYv5PAV051+Ni//N4rpzp84r+TwFdOdfjYv8DBV051+Ni/",
          "dtype": "f8"
         }
        },
        {
         "hovertemplate": "Image(image_id=0, camera_id=0, name=\"0\", triangulated=50/50)",
         "legendgroup": "optimized",
         "line": {
          "color": "rgb(0,255,0)",
          "width": 1
         },
         "mode": "lines",
         "name": "0",
         "showlegend": false,
         "type": "scatter3d",
         "x": {
          "bdata": "L1mbdcbU1z8uWZt1xtTSPy5Zm3XG1Nw/L1mbdcbU1z8uWZt1xtTcPy5Zm3XG1Nw/L1mbdcbU1z8uWZt1xtTcPy5Zm3XG1NI/L1mbdcbU1z8uWZt1xtTSPy5Zm3XG1NI/",
          "dtype": "f8"
         },
         "y": {
          "bdata": "HswUdjmWxD8omCnsciy6PyqYKexyLLo/HswUdjmWxD8qmCnsciy6PxXMFHY5Fsw/HswUdjmWxD8VzBR2ORbMPxTMFHY5Fsw/HswUdjmWxD8UzBR2ORbMPyiYKexyLLo/",
          "dtype": "f8"
         },
         "z": {
          "bdata": "rxe79j0k6L+wF7v2PSTiv7AXu/Y9JOK/rxe79j0k6L+wF7v2PSTiv64Xu/Y9JOK/rxe79j0k6L+uF7v2PSTiv64Xu/Y9JOK/rxe79j0k6L+uF7v2PSTiv7AXu/Y9JOK/",
          "dtype": "f8"
         }
        }
       ],
       "layout": {
        "height": 800,
        "legend": {
         "orientation": "h",
         "x": 0.1,
         "xanchor": "left",
         "y": 0.99,
         "yanchor": "top"
        },
        "margin": {
         "b": 0,
         "l": 0,
         "pad": 0,
         "r": 0,
         "t": 0
        },
        "scene": {
         "aspectmode": "data",
         "camera": {
          "eye": {
           "x": 0,
           "y": -0.1,
           "z": -2
          },
          "projection": {
           "type": "orthographic"
          },
          "up": {
           "x": 0,
           "y": -1,
           "z": 0
          }
         },
         "dragmode": "orbit",
         "xaxis": {
          "autorange": true,
          "showbackground": false,
          "showgrid": false,
          "showline": false,
          "showticklabels": true,
          "visible": false
         },
         "yaxis": {
          "autorange": true,
          "showbackground": false,
          "showgrid": false,
          "showline": false,
          "showticklabels": true,
          "visible": false
         },
         "zaxis": {
          "autorange": true,
          "showbackground": false,
          "showgrid": false,
          "showline": false,
          "showticklabels": true,
          "visible": false
         }
        },
        "template": {
         "data": {
          "bar": [
           {
            "error_x": {
             "color": "#f2f5fa"
            },
            "error_y": {
             "color": "#f2f5fa"
            },
            "marker": {
             "line": {
              "color": "rgb(17,17,17)",
              "width": 0.5
             },
             "pattern": {
              "fillmode": "overlay",
              "size": 10,
              "solidity": 0.2
             }
            },
            "type": "bar"
           }
          ],
          "barpolar": [
           {
            "marker": {
             "line": {
              "color": "rgb(17,17,17)",
              "width": 0.5
             },
             "pattern": {
              "fillmode": "overlay",
              "size": 10,
              "solidity": 0.2
             }
            },
            "type": "barpolar"
           }
          ],
          "carpet": [
           {
            "aaxis": {
             "endlinecolor": "#A2B1C6",
             "gridcolor": "#506784",
             "linecolor": "#506784",
             "minorgridcolor": "#506784",
             "startlinecolor": "#A2B1C6"
            },
            "baxis": {
             "endlinecolor": "#A2B1C6",
             "gridcolor": "#506784",
             "linecolor": "#506784",
             "minorgridcolor": "#506784",
             "startlinecolor": "#A2B1C6"
            },
            "type": "carpet"
           }
          ],
          "choropleth": [
           {
            "colorbar": {
             "outlinewidth": 0,
             "ticks": ""
            },
            "type": "choropleth"
           }
          ],
          "contour": [
           {
            "colorbar": {
             "outlinewidth": 0,
             "ticks": ""
            },
            "colorscale": [
             [
              0,
              "#0d0887"
             ],
             [
              0.1111111111111111,
              "#46039f"
             ],
             [
              0.2222222222222222,
              "#7201a8"
             ],
             [
              0.3333333333333333,
              "#9c179e"
             ],
             [
              0.4444444444444444,
              "#bd3786"
             ],
             [
              0.5555555555555556,
              "#d8576b"
             ],
             [
              0.6666666666666666,
              "#ed7953"
             ],
             [
              0.7777777777777778,
              "#fb9f3a"
             ],
             [
              0.8888888888888888,
              "#fdca26"
             ],
             [
              1,
              "#f0f921"
             ]
            ],
            "type": "contour"
           }
          ],
          "contourcarpet": [
           {
            "colorbar": {
             "outlinewidth": 0,
             "ticks": ""
            },
            "type": "contourcarpet"
           }
          ],
          "heatmap": [
           {
            "colorbar": {
             "outlinewidth": 0,
             "ticks": ""
            },
            "colorscale": [
             [
              0,
              "#0d0887"
             ],
             [
              0.1111111111111111,
              "#46039f"
             ],
             [
              0.2222222222222222,
              "#7201a8"
             ],
             [
              0.3333333333333333,
              "#9c179e"
             ],
             [
              0.4444444444444444,
              "#bd3786"
             ],
             [
              0.5555555555555556,
              "#d8576b"
             ],
             [
              0.6666666666666666,
              "#ed7953"
             ],
             [
              0.7777777777777778,
              "#fb9f3a"
             ],
             [
              0.8888888888888888,
              "#fdca26"
             ],
             [
              1,
              "#f0f921"
             ]
            ],
            "type": "heatmap"
           }
          ],
          "histogram": [
           {
            "marker": {
             "pattern": {
              "fillmode": "overlay",
              "size": 10,
              "solidity": 0.2
             }
            },
            "type": "histogram"
           }
          ],
          "histogram2d": [
           {
            "colorbar": {
             "outlinewidth": 0,
             "ticks": ""
            },
            "colorscale": [
             [
              0,
              "#0d0887"
             ],
             [
              0.1111111111111111,
              "#46039f"
             ],
             [
              0.2222222222222222,
              "#7201a8"
             ],
             [
              0.3333333333333333,
              "#9c179e"
             ],
             [
              0.4444444444444444,
              "#bd3786"
             ],
             [
              0.5555555555555556,
              "#d8576b"
             ],
             [
              0.6666666666666666,
              "#ed7953"
             ],
             [
              0.7777777777777778,
              "#fb9f3a"
             ],
             [
              0.8888888888888888,
              "#fdca26"
             ],
             [
              1,
              "#f0f921"
             ]
            ],
            "type": "histogram2d"
           }
          ],
          "histogram2dcontour": [
           {
            "colorbar": {
             "outlinewidth": 0,
             "ticks": ""
            },
            "colorscale": [
             [
              0,
              "#0d0887"
             ],
             [
              0.1111111111111111,
              "#46039f"
             ],
             [
              0.2222222222222222,
              "#7201a8"
             ],
             [
              0.3333333333333333,
              "#9c179e"
             ],
             [
              0.4444444444444444,
              "#bd3786"
             ],
             [
              0.5555555555555556,
              "#d8576b"
             ],
             [
              0.6666666666666666,
              "#ed7953"
             ],
             [
              0.7777777777777778,
              "#fb9f3a"
             ],
             [
              0.8888888888888888,
              "#fdca26"
             ],
             [
              1,
              "#f0f921"
             ]
            ],
            "type": "histogram2dcontour"
           }
          ],
          "mesh3d": [
           {
            "colorbar": {
             "outlinewidth": 0,
             "ticks": ""
            },
            "type": "mesh3d"
           }
          ],
          "parcoords": [
           {
            "line": {
             "colorbar": {
              "outlinewidth": 0,
              "ticks": ""
             }
            },
            "type": "parcoords"
           }
          ],
          "pie": [
           {
            "automargin": true,
            "type": "pie"
           }
          ],
          "scatter": [
           {
            "marker": {
             "line": {
              "color": "#283442"
             }
            },
            "type": "scatter"
           }
          ],
          "scatter3d": [
           {
            "line": {
             "colorbar": {
              "outlinewidth": 0,
              "ticks": ""
             }
            },
            "marker": {
             "colorbar": {
              "outlinewidth": 0,
              "ticks": ""
             }
            },
            "type": "scatter3d"
           }
          ],
          "scattercarpet": [
           {
            "marker": {
             "colorbar": {
              "outlinewidth": 0,
              "ticks": ""
             }
            },
            "type": "scattercarpet"
           }
          ],
          "scattergeo": [
           {
            "marker": {
             "colorbar": {
              "outlinewidth": 0,
              "ticks": ""
             }
            },
            "type": "scattergeo"
           }
          ],
          "scattergl": [
           {
            "marker": {
             "line": {
              "color": "#283442"
             }
            },
            "type": "scattergl"
           }
          ],
          "scattermap": [
           {
            "marker": {
             "colorbar": {
              "outlinewidth": 0,
              "ticks": ""
             }
            },
            "type": "scattermap"
           }
          ],
          "scattermapbox": [
           {
            "marker": {
             "colorbar": {
              "outlinewidth": 0,
              "ticks": ""
             }
            },
            "type": "scattermapbox"
           }
          ],
          "scatterpolar": [
           {
            "marker": {
             "colorbar": {
              "outlinewidth": 0,
              "ticks": ""
             }
            },
            "type": "scatterpolar"
           }
          ],
          "scatterpolargl": [
           {
            "marker": {
             "colorbar": {
              "outlinewidth": 0,
              "ticks": ""
             }
            },
            "type": "scatterpolargl"
           }
          ],
          "scatterternary": [
           {
            "marker": {
             "colorbar": {
              "outlinewidth": 0,
              "ticks": ""
             }
            },
            "type": "scatterternary"
           }
          ],
          "surface": [
           {
            "colorbar": {
             "outlinewidth": 0,
             "ticks": ""
            },
            "colorscale": [
             [
              0,
              "#0d0887"
             ],
             [
              0.1111111111111111,
              "#46039f"
             ],
             [
              0.2222222222222222,
              "#7201a8"
             ],
             [
              0.3333333333333333,
              "#9c179e"
             ],
             [
              0.4444444444444444,
              "#bd3786"
             ],
             [
              0.5555555555555556,
              "#d8576b"
             ],
             [
              0.6666666666666666,
              "#ed7953"
             ],
             [
              0.7777777777777778,
              "#fb9f3a"
             ],
             [
              0.8888888888888888,
              "#fdca26"
             ],
             [
              1,
              "#f0f921"
             ]
            ],
            "type": "surface"
           }
          ],
          "table": [
           {
            "cells": {
             "fill": {
              "color": "#506784"
             },
             "line": {
              "color": "rgb(17,17,17)"
             }
            },
            "header": {
             "fill": {
              "color": "#2a3f5f"
             },
             "line": {
              "color": "rgb(17,17,17)"
             }
            },
            "type": "table"
           }
          ]
         },
         "layout": {
          "annotationdefaults": {
           "arrowcolor": "#f2f5fa",
           "arrowhead": 0,
           "arrowwidth": 1
          },
          "autotypenumbers": "strict",
          "coloraxis": {
           "colorbar": {
            "outlinewidth": 0,
            "ticks": ""
           }
          },
          "colorscale": {
           "diverging": [
            [
             0,
             "#8e0152"
            ],
            [
             0.1,
             "#c51b7d"
            ],
            [
             0.2,
             "#de77ae"
            ],
            [
             0.3,
             "#f1b6da"
            ],
            [
             0.4,
             "#fde0ef"
            ],
            [
             0.5,
             "#f7f7f7"
            ],
            [
             0.6,
             "#e6f5d0"
            ],
            [
             0.7,
             "#b8e186"
            ],
            [
             0.8,
             "#7fbc41"
            ],
            [
             0.9,
             "#4d9221"
            ],
            [
             1,
             "#276419"
            ]
           ],
           "sequential": [
            [
             0,
             "#0d0887"
            ],
            [
             0.1111111111111111,
             "#46039f"
            ],
            [
             0.2222222222222222,
             "#7201a8"
            ],
            [
             0.3333333333333333,
             "#9c179e"
            ],
            [
             0.4444444444444444,
             "#bd3786"
            ],
            [
             0.5555555555555556,
             "#d8576b"
            ],
            [
             0.6666666666666666,
             "#ed7953"
            ],
            [
             0.7777777777777778,
             "#fb9f3a"
            ],
            [
             0.8888888888888888,
             "#fdca26"
            ],
            [
             1,
             "#f0f921"
            ]
           ],
           "sequentialminus": [
            [
             0,
             "#0d0887"
            ],
            [
             0.1111111111111111,
             "#46039f"
            ],
            [
             0.2222222222222222,
             "#7201a8"
            ],
            [
             0.3333333333333333,
             "#9c179e"
            ],
            [
             0.4444444444444444,
             "#bd3786"
            ],
            [
             0.5555555555555556,
             "#d8576b"
            ],
            [
             0.6666666666666666,
             "#ed7953"
            ],
            [
             0.7777777777777778,
             "#fb9f3a"
            ],
            [
             0.8888888888888888,
             "#fdca26"
            ],
            [
             1,
             "#f0f921"
            ]
           ]
          },
          "colorway": [
           "#636efa",
           "#EF553B",
           "#00cc96",
           "#ab63fa",
           "#FFA15A",
           "#19d3f3",
           "#FF6692",
           "#B6E880",
           "#FF97FF",
           "#FECB52"
          ],
          "font": {
           "color": "#f2f5fa"
          },
          "geo": {
           "bgcolor": "rgb(17,17,17)",
           "lakecolor": "rgb(17,17,17)",
           "landcolor": "rgb(17,17,17)",
           "showlakes": true,
           "showland": true,
           "subunitcolor": "#506784"
          },
          "hoverlabel": {
           "align": "left"
          },
          "hovermode": "closest",
          "mapbox": {
           "style": "dark"
          },
          "paper_bgcolor": "rgb(17,17,17)",
          "plot_bgcolor": "rgb(17,17,17)",
          "polar": {
           "angularaxis": {
            "gridcolor": "#506784",
            "linecolor": "#506784",
            "ticks": ""
           },
           "bgcolor": "rgb(17,17,17)",
           "radialaxis": {
            "gridcolor": "#506784",
            "linecolor": "#506784",
            "ticks": ""
           }
          },
          "scene": {
           "xaxis": {
            "backgroundcolor": "rgb(17,17,17)",
            "gridcolor": "#506784",
            "gridwidth": 2,
            "linecolor": "#506784",
            "showbackground": true,
            "ticks": "",
            "zerolinecolor": "#C8D4E3"
           },
           "yaxis": {
            "backgroundcolor": "rgb(17,17,17)",
            "gridcolor": "#506784",
            "gridwidth": 2,
            "linecolor": "#506784",
            "showbackground": true,
            "ticks": "",
            "zerolinecolor": "#C8D4E3"
           },
           "zaxis": {
            "backgroundcolor": "rgb(17,17,17)",
            "gridcolor": "#506784",
            "gridwidth": 2,
            "linecolor": "#506784",
            "showbackground": true,
            "ticks": "",
            "zerolinecolor": "#C8D4E3"
           }
          },
          "shapedefaults": {
           "line": {
            "color": "#f2f5fa"
           }
          },
          "sliderdefaults": {
           "bgcolor": "#C8D4E3",
           "bordercolor": "rgb(17,17,17)",
           "borderwidth": 1,
           "tickwidth": 0
          },
          "ternary": {
           "aaxis": {
            "gridcolor": "#506784",
            "linecolor": "#506784",
            "ticks": ""
           },
           "baxis": {
            "gridcolor": "#506784",
            "linecolor": "#506784",
            "ticks": ""
           },
           "bgcolor": "rgb(17,17,17)",
           "caxis": {
            "gridcolor": "#506784",
            "linecolor": "#506784",
            "ticks": ""
           }
          },
          "title": {
           "x": 0.05
          },
          "updatemenudefaults": {
           "bgcolor": "#506784",
           "borderwidth": 0
          },
          "xaxis": {
           "automargin": true,
           "gridcolor": "#283442",
           "linecolor": "#506784",
           "ticks": "",
           "title": {
            "standoff": 15
           },
           "zerolinecolor": "#283442",
           "zerolinewidth": 2
          },
          "yaxis": {
           "automargin": true,
           "gridcolor": "#283442",
           "linecolor": "#506784",
           "ticks": "",
           "title": {
            "standoff": 15
           },
           "zerolinecolor": "#283442",
           "zerolinewidth": 2
          }
         }
        }
       }
      }
     },
     "metadata": {},
     "output_type": "display_data"
    }
   ],
   "source": [
    "fig = viz_3d.init_figure()\n",
    "viz_3d.plot_reconstruction(\n",
    "    fig,\n",
    "    rec_init,\n",
    "    min_track_length=0,\n",
    "    color=\"rgb(255,255,255)\",\n",
    "    points_rgb=False,\n",
    "    name=\"init\",\n",
    ")\n",
    "viz_3d.plot_reconstruction(\n",
    "    fig, rec_gt, min_track_length=0, color=\"rgb(255,0,0)\", points_rgb=False, name=\"GT\"\n",
    ")\n",
    "viz_3d.plot_reconstruction(\n",
    "    fig,\n",
    "    rec,\n",
    "    min_track_length=0,\n",
    "    color=\"rgb(0,255,0)\",\n",
    "    points_rgb=False,\n",
    "    name=\"optimized\",\n",
    ")\n",
    "fig.show()"
   ]
  }
 ],
 "metadata": {
  "kernelspec": {
   "display_name": "env2slam",
   "language": "python",
   "name": "python3"
  },
  "language_info": {
   "codemirror_mode": {
    "name": "ipython",
    "version": 3
   },
   "file_extension": ".py",
   "mimetype": "text/x-python",
   "name": "python",
   "nbconvert_exporter": "python",
   "pygments_lexer": "ipython3",
   "version": "3.10.12"
  }
 },
 "nbformat": 4,
 "nbformat_minor": 5
}
